{
 "cells": [
  {
   "cell_type": "code",
   "execution_count": null,
   "id": "3b29e78d-b36a-4e68-9362-c312868b0ddd",
   "metadata": {},
   "outputs": [],
   "source": [
    "from anndata import read_h5ad\n",
    "adata = read_h5ad('./Gut_reference.h5ad')\n",
    "import pickle\n",
    "with open('./mask', 'rb') as handle:\n",
    "    mask = pickle.load(handle)\n",
    "segments = F2S.transfer_masks(adata, mask, list_s=['Cluster1', 'Cluster2', 'Cluster3', 'Cluster4', 'Cluster5', 'Cluster6', 'Cluster7', 'Cluster8', 'Cluster9'])\n",
    "\n"
   ]
  }
 ],
 "metadata": {
  "kernelspec": {
   "display_name": "Python 3 (ipykernel)",
   "language": "python",
   "name": "python3"
  },
  "language_info": {
   "codemirror_mode": {
    "name": "ipython",
    "version": 3
   },
   "file_extension": ".py",
   "mimetype": "text/x-python",
   "name": "python",
   "nbconvert_exporter": "python",
   "pygments_lexer": "ipython3",
   "version": "3.11.5"
  }
 },
 "nbformat": 4,
 "nbformat_minor": 5
}
